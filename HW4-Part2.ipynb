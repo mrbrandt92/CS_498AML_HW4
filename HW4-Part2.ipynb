{
 "cells": [
  {
   "cell_type": "code",
   "execution_count": 87,
   "metadata": {
    "collapsed": true
   },
   "outputs": [],
   "source": [
    "from glob import glob\n",
    "import matplotlib\n",
    "import pandas as pd\n",
    "import numpy as np\n",
    "import os\n",
    "import matplotlib.pylab as plt\n",
    "from matplotlib import cm\n",
    "from sklearn.linear_model import LogisticRegression, SGDClassifier\n",
    "from sklearn.ensemble import RandomForestClassifier\n",
    "from sklearn.naive_bayes import BernoulliNB\n",
    "from sklearn.neighbors import KNeighborsClassifier\n",
    "from sklearn.decomposition import PCA\n",
    "from sklearn.manifold import TSNE\n",
    "from sklearn.metrics import accuracy_score, classification_report, confusion_matrix\n",
    "from sklearn.utils import shuffle\n",
    "\n",
    "matplotlib.style.use('ggplot')\n",
    "%matplotlib inline"
   ]
  },
  {
   "cell_type": "code",
   "execution_count": 88,
   "metadata": {},
   "outputs": [],
   "source": [
    "Y_class = {'Brush_teeth':0,\n",
    "            'Climb_stairs': 1,\n",
    "            'Comb_hair':2, \n",
    "            'Descend_stairs':3,\n",
    "            'Drink_glass':4, \n",
    "            'Eat_meat':5,\n",
    "            'Eat_soup':6,\n",
    "            'Getup_bed':7,\n",
    "            'Liedown_bed':8,\n",
    "            'Pour_water':9,\n",
    "            'Sitdown_chair':10,\n",
    "            'Standup_chair':11,\n",
    "            'Use_telephone':12, \n",
    "            'Walk':13\n",
    "            }\n",
    "\n",
    "df = []\n",
    "data = None\n",
    "def loadDataset():\n",
    "    global Y_class\n",
    "    global data\n",
    "    size = 32\n",
    "    data = pd.DataFrame()\n",
    "    for c in Y_class:\n",
    "        f_list = glob(\"./HMP_Dataset/\" + c + \"/*\")\n",
    "        df = pd.DataFrame()\n",
    "        for f in f_list:\n",
    "            df_file = pd.read_table(f, sep=' ', header=None)\n",
    "            for i in range(0, len(df_file) - size, size):\n",
    "                chunk = df_file.iloc[i:i+32].values.flatten()\n",
    "                df = df.append([np.append(chunk,Y_class[c])])\n",
    "\n",
    "        data = data.append(df)\n",
    "    \n",
    "loadDataset()\n"
   ]
  },
  {
   "cell_type": "code",
   "execution_count": 89,
   "metadata": {},
   "outputs": [],
   "source": [
    "y = data[[96]].values.flatten()\n",
    "X = data.drop(96, axis=1)\n"
   ]
  },
  {
   "cell_type": "code",
   "execution_count": 90,
   "metadata": {},
   "outputs": [],
   "source": [
    "from sklearn.cluster import KMeans\n",
    "km = KMeans(n_clusters=len(Y_class)).fit(X)\n"
   ]
  },
  {
   "cell_type": "code",
   "execution_count": 91,
   "metadata": {},
   "outputs": [
    {
     "data": {
      "image/png": "[encoded data removed]",
      "text/plain": [
       "<matplotlib.figure.Figure at 0x1a097d66d8>"
      ]
     },
     "metadata": {},
     "output_type": "display_data"
    }
   ],
   "source": [
    "plt.hist(km.labels_, bins=np.arange(len(Y_class) + 1)-0.5,rwidth=0.9, align='mid')\n",
    "plt.show()"
   ]
  },
  {
   "cell_type": "code",
   "execution_count": 92,
   "metadata": {},
   "outputs": [
    {
     "data": {
      "image/png": "[encoded data removed]",
      "text/plain": [
       "<matplotlib.figure.Figure at 0x1a095f46a0>"
      ]
     },
     "metadata": {},
     "output_type": "display_data"
    }
   ],
   "source": [
    "plt.hist(y, bins=np.arange(len(Y_class) + 1)-0.5,rwidth=0.9, align='mid')\n",
    "plt.show()"
   ]
  },
  {
   "cell_type": "code",
   "execution_count": null,
   "metadata": {
    "collapsed": true
   },
   "outputs": [],
   "source": []
  }
 ],
 "metadata": {
  "kernelspec": {
   "display_name": "Python 3",
   "language": "python",
   "name": "python3"
  },
  "language_info": {
   "codemirror_mode": {
    "name": "ipython",
    "version": 3
   },
   "file_extension": ".py",
   "mimetype": "text/x-python",
   "name": "python",
   "nbconvert_exporter": "python",
   "pygments_lexer": "ipython3",
   "version": "3.6.3"
  }
 },
 "nbformat": 4,
 "nbformat_minor": 2
}
